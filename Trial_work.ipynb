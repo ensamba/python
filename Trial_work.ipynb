{
 "cells": [
  {
   "cell_type": "code",
   "execution_count": 1,
   "metadata": {},
   "outputs": [
    {
     "name": "stdout",
     "output_type": "stream",
     "text": [
      "Pandas-lesson-01-TAH.ipynb  \u001b[34mscripts\u001b[m\u001b[m/\r\n",
      "README.md                   species.csv\r\n",
      "Untitled.ipynb              surveys.csv\r\n"
     ]
    }
   ],
   "source": [
    "ls"
   ]
  },
  {
   "cell_type": "code",
   "execution_count": 2,
   "metadata": {},
   "outputs": [
    {
     "name": "stdout",
     "output_type": "stream",
     "text": [
      "/Users/ensamba/BCB546X-Fall2017\n"
     ]
    }
   ],
   "source": [
    "cd .."
   ]
  },
  {
   "cell_type": "code",
   "execution_count": 3,
   "metadata": {},
   "outputs": [
    {
     "name": "stdout",
     "output_type": "stream",
     "text": [
      "BCB 546X - Fall Syllabus 2017.pdf  \u001b[34mWeek_05\u001b[m\u001b[m/\r\n",
      "\u001b[34mFinal_Group_Project\u001b[m\u001b[m/               \u001b[34mWeek_07\u001b[m\u001b[m/\r\n",
      "README.md                          \u001b[34mWeek_08\u001b[m\u001b[m/\r\n",
      "\u001b[34mR_Assignment\u001b[m\u001b[m/                      \u001b[34mWeek_09\u001b[m\u001b[m/\r\n",
      "\u001b[34mR_class\u001b[m\u001b[m/                           _config.yml\r\n",
      "\u001b[34mUNIX_Assignment\u001b[m\u001b[m/                   \u001b[34mensamba_R_Assignment\u001b[m\u001b[m/\r\n",
      "\u001b[34mWeek_01\u001b[m\u001b[m/                           install.md\r\n",
      "\u001b[34mWeek_02\u001b[m\u001b[m/                           \u001b[34mpython-bcb546\u001b[m\u001b[m/\r\n",
      "\u001b[34mWeek_03\u001b[m\u001b[m/                           vi_tutorial.html\r\n",
      "\u001b[34mWeek_04\u001b[m\u001b[m/                           vi_tutorial.pdf\r\n"
     ]
    }
   ],
   "source": [
    "ls"
   ]
  },
  {
   "cell_type": "code",
   "execution_count": 4,
   "metadata": {},
   "outputs": [
    {
     "name": "stdout",
     "output_type": "stream",
     "text": [
      "/Users/ensamba/BCB546X-Fall2017/Week_09\n"
     ]
    }
   ],
   "source": [
    "cd Week_09/"
   ]
  },
  {
   "cell_type": "code",
   "execution_count": 5,
   "metadata": {},
   "outputs": [
    {
     "name": "stdout",
     "output_type": "stream",
     "text": [
      "README.md          \u001b[34madditional-lesson\u001b[m\u001b[m/\r\n"
     ]
    }
   ],
   "source": [
    "ls"
   ]
  },
  {
   "cell_type": "code",
   "execution_count": 6,
   "metadata": {},
   "outputs": [
    {
     "name": "stdout",
     "output_type": "stream",
     "text": [
      "/Users/ensamba/BCB546X-Fall2017/Week_09/additional-lesson\n"
     ]
    }
   ],
   "source": [
    "cd additional-lesson/"
   ]
  },
  {
   "cell_type": "code",
   "execution_count": 7,
   "metadata": {},
   "outputs": [
    {
     "name": "stdout",
     "output_type": "stream",
     "text": [
      "README.md  input.txt\r\n"
     ]
    }
   ],
   "source": [
    "ls"
   ]
  },
  {
   "cell_type": "code",
   "execution_count": 8,
   "metadata": {},
   "outputs": [
    {
     "name": "stdout",
     "output_type": "stream",
     "text": [
      "GCACATGCAGCGCAAGTAGGTCTACAAGACGCTACTTCCCCTATCATAGAAGAGCTTATC\r\n",
      "GCCCATCCAGTACAATTCGGATTTCAAGACGCCGCCTCACCTATTATAGAA\r\n",
      "GCCCACCCAGCCCAATTAGGATTCCAAGACGCCGCTTCCCCAAT\r\n",
      "GCGTACCCATTTCAACTCGGATTACAGGACGCAACCTCCCCT\r\n",
      "GCTTATCCACTTCAACTAGGATTTCAAGATGCAACATCCCCTATTATAGAAGAATTACTCCAT"
     ]
    }
   ],
   "source": [
    "cat input.txt"
   ]
  },
  {
   "cell_type": "code",
   "execution_count": 9,
   "metadata": {},
   "outputs": [
    {
     "ename": "AttributeError",
     "evalue": "'function' object has no attribute 'txt'",
     "output_type": "error",
     "traceback": [
      "\u001b[0;31m---------------------------------------------------------------------------\u001b[0m",
      "\u001b[0;31mAttributeError\u001b[0m                            Traceback (most recent call last)",
      "\u001b[0;32m<ipython-input-9-a9e847004ba0>\u001b[0m in \u001b[0;36m<module>\u001b[0;34m()\u001b[0m\n\u001b[0;32m----> 1\u001b[0;31m \u001b[0mlen\u001b[0m\u001b[0;34m(\u001b[0m\u001b[0minput\u001b[0m\u001b[0;34m.\u001b[0m\u001b[0mtxt\u001b[0m\u001b[0;34m)\u001b[0m\u001b[0;34m\u001b[0m\u001b[0m\n\u001b[0m",
      "\u001b[0;31mAttributeError\u001b[0m: 'function' object has no attribute 'txt'"
     ]
    }
   ],
   "source": [
    "len(input.txt)"
   ]
  },
  {
   "cell_type": "code",
   "execution_count": 10,
   "metadata": {
    "collapsed": true
   },
   "outputs": [],
   "source": [
    "file = open('input.txt', 'r')"
   ]
  },
  {
   "cell_type": "code",
   "execution_count": 11,
   "metadata": {},
   "outputs": [
    {
     "ename": "NameError",
     "evalue": "name 'r' is not defined",
     "output_type": "error",
     "traceback": [
      "\u001b[0;31m---------------------------------------------------------------------------\u001b[0m",
      "\u001b[0;31mNameError\u001b[0m                                 Traceback (most recent call last)",
      "\u001b[0;32m<ipython-input-11-72cfd272ace1>\u001b[0m in \u001b[0;36m<module>\u001b[0;34m()\u001b[0m\n\u001b[0;32m----> 1\u001b[0;31m \u001b[0mr\u001b[0m\u001b[0;34m\u001b[0m\u001b[0m\n\u001b[0m",
      "\u001b[0;31mNameError\u001b[0m: name 'r' is not defined"
     ]
    }
   ],
   "source": [
    "r"
   ]
  },
  {
   "cell_type": "code",
   "execution_count": 13,
   "metadata": {},
   "outputs": [
    {
     "name": "stdout",
     "output_type": "stream",
     "text": [
      "<_io.TextIOWrapper name='input.txt' mode='r' encoding='UTF-8'>\n"
     ]
    }
   ],
   "source": [
    "print(file)"
   ]
  },
  {
   "cell_type": "code",
   "execution_count": 14,
   "metadata": {},
   "outputs": [
    {
     "name": "stdout",
     "output_type": "stream",
     "text": [
      "GCACATGCAGCGCAAGTAGGTCTACAAGACGCTACTTCCCCTATCATAGAAGAGCTTATC\n",
      "\n",
      "GCCCATCCAGTACAATTCGGATTTCAAGACGCCGCCTCACCTATTATAGAA\n",
      "\n",
      "GCCCACCCAGCCCAATTAGGATTCCAAGACGCCGCTTCCCCAAT\n",
      "\n",
      "GCGTACCCATTTCAACTCGGATTACAGGACGCAACCTCCCCT\n",
      "\n",
      "GCTTATCCACTTCAACTAGGATTTCAAGATGCAACATCCCCTATTATAGAAGAATTACTCCAT\n"
     ]
    }
   ],
   "source": [
    "for line in file:\n",
    "\tprint(line)"
   ]
  },
  {
   "cell_type": "code",
   "execution_count": 15,
   "metadata": {
    "collapsed": true
   },
   "outputs": [],
   "source": [
    "file.close()"
   ]
  },
  {
   "cell_type": "code",
   "execution_count": 16,
   "metadata": {
    "collapsed": true
   },
   "outputs": [],
   "source": [
    "file = open('input.txt','r')\n",
    "seqs = []\n",
    "for line in file:\n",
    "\tseqs += [line.strip('\\n')]\n",
    "\n",
    "file.close()"
   ]
  },
  {
   "cell_type": "code",
   "execution_count": 17,
   "metadata": {},
   "outputs": [
    {
     "name": "stdout",
     "output_type": "stream",
     "text": [
      "['GCACATGCAGCGCAAGTAGGTCTACAAGACGCTACTTCCCCTATCATAGAAGAGCTTATC', 'GCCCATCCAGTACAATTCGGATTTCAAGACGCCGCCTCACCTATTATAGAA', 'GCCCACCCAGCCCAATTAGGATTCCAAGACGCCGCTTCCCCAAT', 'GCGTACCCATTTCAACTCGGATTACAGGACGCAACCTCCCCT', 'GCTTATCCACTTCAACTAGGATTTCAAGATGCAACATCCCCTATTATAGAAGAATTACTCCAT']\n"
     ]
    }
   ],
   "source": [
    "print(seqs)"
   ]
  },
  {
   "cell_type": "code",
   "execution_count": 20,
   "metadata": {},
   "outputs": [
    {
     "name": "stdout",
     "output_type": "stream",
     "text": [
      "['GCACATGCAGCGCAAGTAGGTCTACAAGACGCTACTTCCCCTATCATAGAAGAGCTTATC', 'GCCCATCCAGTACAATTCGGATTTCAAGACGCCGCCTCACCTATTATAGAA', 'GCCCACCCAGCCCAATTAGGATTCCAAGACGCCGCTTCCCCAAT', 'GCGTACCCATTTCAACTCGGATTACAGGACGCAACCTCCCCT', 'GCTTATCCACTTCAACTAGGATTTCAAGATGCAACATCCCCTATTATAGAAGAATTACTCCAT'] 2\n"
     ]
    }
   ],
   "source": [
    "print(seqs, 2)"
   ]
  },
  {
   "cell_type": "code",
   "execution_count": 22,
   "metadata": {},
   "outputs": [
    {
     "ename": "SyntaxError",
     "evalue": "invalid syntax (<ipython-input-22-4b133b83a3ea>, line 1)",
     "output_type": "error",
     "traceback": [
      "\u001b[0;36m  File \u001b[0;32m\"<ipython-input-22-4b133b83a3ea>\"\u001b[0;36m, line \u001b[0;32m1\u001b[0m\n\u001b[0;31m    file_2 = M_murinus.fasta.\u001b[0m\n\u001b[0m                             ^\u001b[0m\n\u001b[0;31mSyntaxError\u001b[0m\u001b[0;31m:\u001b[0m invalid syntax\n"
     ]
    }
   ],
   "source": [
    "file_2 = M_murinus.fasta."
   ]
  },
  {
   "cell_type": "code",
   "execution_count": 23,
   "metadata": {},
   "outputs": [
    {
     "ename": "ValueError",
     "evalue": "I/O operation on closed file.",
     "output_type": "error",
     "traceback": [
      "\u001b[0;31m---------------------------------------------------------------------------\u001b[0m",
      "\u001b[0;31mValueError\u001b[0m                                Traceback (most recent call last)",
      "\u001b[0;32m<ipython-input-23-ccf611c7e385>\u001b[0m in \u001b[0;36m<module>\u001b[0;34m()\u001b[0m\n\u001b[0;32m----> 1\u001b[0;31m \u001b[0;32mfor\u001b[0m \u001b[0mline\u001b[0m \u001b[0;32min\u001b[0m \u001b[0mfile\u001b[0m\u001b[0;34m:\u001b[0m\u001b[0;34m\u001b[0m\u001b[0m\n\u001b[0m\u001b[1;32m      2\u001b[0m         \u001b[0mprint\u001b[0m\u001b[0;34m(\u001b[0m\u001b[0mline\u001b[0m\u001b[0;34m)\u001b[0m\u001b[0;34m\u001b[0m\u001b[0m\n",
      "\u001b[0;31mValueError\u001b[0m: I/O operation on closed file."
     ]
    }
   ],
   "source": [
    "for line in file:\n",
    "\tprint(line)"
   ]
  },
  {
   "cell_type": "code",
   "execution_count": 24,
   "metadata": {},
   "outputs": [
    {
     "name": "stdout",
     "output_type": "stream",
     "text": [
      "GCACATGCAGCGCAAGTAGGTCTACAAGACGCTACTTCCCCTATCATAGAAGAGCTTATC\n",
      "GCCCATCCAGTACAATTCGGATTTCAAGACGCCGCCTCACCTATTATAGAA\n",
      "GCCCACCCAGCCCAATTAGGATTCCAAGACGCCGCTTCCCCAAT\n",
      "GCGTACCCATTTCAACTCGGATTACAGGACGCAACCTCCCCT\n",
      "GCTTATCCACTTCAACTAGGATTTCAAGATGCAACATCCCCTATTATAGAAGAATTACTCCAT\n"
     ]
    }
   ],
   "source": [
    "for line in seqs:\n",
    "    print(line)"
   ]
  },
  {
   "cell_type": "code",
   "execution_count": 25,
   "metadata": {
    "collapsed": true
   },
   "outputs": [],
   "source": [
    "for line in seqs:\n",
    "    len(line)"
   ]
  },
  {
   "cell_type": "code",
   "execution_count": 27,
   "metadata": {},
   "outputs": [
    {
     "ename": "NameError",
     "evalue": "name 'count' is not defined",
     "output_type": "error",
     "traceback": [
      "\u001b[0;31m---------------------------------------------------------------------------\u001b[0m",
      "\u001b[0;31mNameError\u001b[0m                                 Traceback (most recent call last)",
      "\u001b[0;32m<ipython-input-27-21b925311422>\u001b[0m in \u001b[0;36m<module>\u001b[0;34m()\u001b[0m\n\u001b[1;32m      1\u001b[0m \u001b[0;32mfor\u001b[0m \u001b[0mline\u001b[0m \u001b[0;32min\u001b[0m \u001b[0mseqs\u001b[0m\u001b[0;34m:\u001b[0m\u001b[0;34m\u001b[0m\u001b[0m\n\u001b[0;32m----> 2\u001b[0;31m      \u001b[0mcount\u001b[0m\u001b[0;34m\u001b[0m\u001b[0m\n\u001b[0m",
      "\u001b[0;31mNameError\u001b[0m: name 'count' is not defined"
     ]
    }
   ],
   "source": [
    "for line in seqs:\n",
    "     count"
   ]
  },
  {
   "cell_type": "code",
   "execution_count": null,
   "metadata": {
    "collapsed": true
   },
   "outputs": [],
   "source": []
  }
 ],
 "metadata": {
  "kernelspec": {
   "display_name": "Python 3",
   "language": "python",
   "name": "python3"
  },
  "language_info": {
   "codemirror_mode": {
    "name": "ipython",
    "version": 3
   },
   "file_extension": ".py",
   "mimetype": "text/x-python",
   "name": "python",
   "nbconvert_exporter": "python",
   "pygments_lexer": "ipython3",
   "version": "3.6.2"
  }
 },
 "nbformat": 4,
 "nbformat_minor": 2
}
